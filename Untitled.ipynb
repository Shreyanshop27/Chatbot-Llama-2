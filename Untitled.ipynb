{
 "cells": [
  {
   "cell_type": "code",
   "execution_count": 1,
   "id": "8b9aac3c-ce4b-4c45-9969-3508880a73c8",
   "metadata": {},
   "outputs": [
    {
     "name": "stdout",
     "output_type": "stream",
     "text": [
      "PDF has been successfully converted to txt.\n"
     ]
    }
   ],
   "source": [
    "import PyPDF2\n",
    "from pdfminer.high_level import extract_text\n",
    "\n",
    "def pdf_to_txt(pdf_path):\n",
    "    try:\n",
    "        text = extract_text(pdf_path)\n",
    "        with open('output.txt', 'w') as f:\n",
    "            f.write(text)\n",
    "        print(\"PDF has been successfully converted to txt.\")\n",
    "    except Exception as e:\n",
    "        print(\"An error occurred while converting the PDF to txt: \", str(e))\n",
    "\n",
    "pdf_path = 'iesc101.pdf'  # replace with your pdf path\n",
    "pdf_to_txt(pdf_path)\n"
   ]
  },
  {
   "cell_type": "code",
   "execution_count": 3,
   "id": "b793608c-2ddd-4525-9c1e-70a0d2b88f3b",
   "metadata": {},
   "outputs": [
    {
     "name": "stderr",
     "output_type": "stream",
     "text": [
      "[nltk_data] Downloading package punkt to C:\\Users\\shreyansh\n",
      "[nltk_data]     verma\\AppData\\Roaming\\nltk_data...\n",
      "[nltk_data]   Unzipping tokenizers\\punkt.zip.\n",
      "[nltk_data] Downloading package stopwords to C:\\Users\\shreyansh\n",
      "[nltk_data]     verma\\AppData\\Roaming\\nltk_data...\n",
      "[nltk_data]   Unzipping corpora\\stopwords.zip.\n"
     ]
    },
    {
     "name": "stdout",
     "output_type": "stream",
     "text": [
      "Text has been successfully cleaned for NLP tasks.\n"
     ]
    }
   ],
   "source": [
    "import nltk\n",
    "import string\n",
    "from nltk.corpus import stopwords\n",
    "\n",
    "# Download the stopwords from NLTK\n",
    "nltk.download('punkt')\n",
    "nltk.download('stopwords')\n",
    "\n",
    "stopwords = set(stopwords.words('english'))\n",
    "\n",
    "def clean_text(file_path):\n",
    "    with open(file_path, 'r') as f:\n",
    "        text = f.read()\n",
    "\n",
    "    # Tokenize the text\n",
    "    words = nltk.word_tokenize(text)\n",
    "\n",
    "    # Remove punctuation and convert to lowercase\n",
    "    words = [''.join(c for c in w if c not in string.punctuation) for w in words]\n",
    "    words = [w.lower() for w in words]\n",
    "\n",
    "    # Remove stopwords\n",
    "    words = [w for w in words if w not in stopwords]\n",
    "\n",
    "    # Write the cleaned text back to the file\n",
    "    with open(file_path, 'w') as f:\n",
    "        f.write(' '.join(words))\n",
    "\n",
    "    print(\"Text has been successfully cleaned for NLP tasks.\")\n",
    "\n",
    "file_path = 'output.txt'  # replace with your file path\n",
    "clean_text(file_path)\n"
   ]
  },
  {
   "cell_type": "code",
   "execution_count": null,
   "id": "e11e0673-990e-41da-a58d-42dde9fb49b0",
   "metadata": {},
   "outputs": [],
   "source": [
    "from transformers import AutoModelForCausalLM, AutoTokenizer, Trainer, TrainingArguments, TextDataset\n",
    "\n",
    "# Load the pre-trained Llama 2 model and tokenizer\n",
    "model = AutoModelForCausalLM.from_pretrained(\"meta-llama/Llama-2-7b-hf\")\n",
    "tokenizer = AutoTokenizer.from_pretrained(\"meta-llama/Llama-2-7b-hf\")\n",
    "\n",
    "# Load your custom dataset from a text file\n",
    "dataset = TextDataset(\n",
    "    tokenizer=tokenizer,\n",
    "    file_path=\"output.txt\",\n",
    "    block_size=32,\n",
    ")\n",
    "\n",
    "# Define the training arguments\n",
    "training_args = TrainingArguments(\n",
    "    output_dir=\"results\",  # output directory for model predictions and checkpoints\n",
    "    num_train_epochs=3,  # total number of training epochs\n",
    "    per_device_train_batch_size=8,  # batch size per device during training\n",
    "    per_device_eval_batch_size=16,  # batch size for evaluation\n",
    "    warmup_steps=500,  # number of warmup steps for learning rate scheduler\n",
    "    weight_decay=0.01,  # strength of weight decay\n",
    "    logging_dir=\"logs\",  # directory for storing logs\n",
    "    fp16=True\n",
    ")\n",
    "\n",
    "# Initialize the Trainer\n",
    "trainer = Trainer(\n",
    "    model=model,  # the instantiated 🤗 Transformers model to be trained\n",
    "    args=training_args,  # training arguments, defined above\n",
    "    train_dataset=dataset,  # training dataset\n",
    ")\n",
    "\n",
    "# Train the model\n",
    "trainer.train()\n"
   ]
  },
  {
   "cell_type": "code",
   "execution_count": null,
   "id": "a98dc8fd-60d9-4f7a-b0f8-9472190c4df1",
   "metadata": {},
   "outputs": [],
   "source": [
    "# Save the model\n",
    "trainer.save_model(\"results/my_fine_tuned_model\")\n"
   ]
  },
  {
   "cell_type": "code",
   "execution_count": null,
   "id": "f8e8fa34-0dd0-4015-a162-12fa886e7144",
   "metadata": {},
   "outputs": [],
   "source": []
  }
 ],
 "metadata": {
  "kernelspec": {
   "display_name": "Python 3 (ipykernel)",
   "language": "python",
   "name": "python3"
  },
  "language_info": {
   "codemirror_mode": {
    "name": "ipython",
    "version": 3
   },
   "file_extension": ".py",
   "mimetype": "text/x-python",
   "name": "python",
   "nbconvert_exporter": "python",
   "pygments_lexer": "ipython3",
   "version": "3.11.4"
  }
 },
 "nbformat": 4,
 "nbformat_minor": 5
}
